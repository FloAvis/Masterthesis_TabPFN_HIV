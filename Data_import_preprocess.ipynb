{
 "cells": [
  {
   "metadata": {},
   "cell_type": "markdown",
   "source": [
    "# Data import and preprocessing\n",
    "\n",
    "Data is imported from the Stanford University HIV Drug resistance database https://hivdb.stanford.edu/pages/genopheno.dataset.html"
   ],
   "id": "82885e77d2c30566"
  },
  {
   "metadata": {
    "ExecuteTime": {
     "end_time": "2025-06-17T16:21:29.431468Z",
     "start_time": "2025-06-17T16:21:14.546200Z"
    }
   },
   "cell_type": "code",
   "source": [
    "from urllib.request import urlretrieve\n",
    "import os\n",
    "\n",
    "# Setup Imports\n",
    "import pandas as pd\n",
    "import numpy as np\n",
    "\n",
    "from sklearn.datasets import load_breast_cancer, load_diabetes, load_iris\n",
    "from sklearn.model_selection import train_test_split\n",
    "from sklearn.model_selection import cross_val_score\n",
    "from sklearn.metrics import (\n",
    "    accuracy_score,\n",
    "    mean_absolute_error,\n",
    "    mean_squared_error,\n",
    "    root_mean_squared_error,\n",
    "    r2_score,\n",
    "    roc_auc_score,\n",
    ")\n",
    "from sklearn.model_selection import train_test_split\n",
    "\n",
    "import matplotlib.pyplot as plt\n",
    "from matplotlib.colors import ListedColormap\n",
    "from sklearn.inspection import DecisionBoundaryDisplay\n",
    "\n",
    "from sklearn.datasets import fetch_openml\n",
    "from sklearn.preprocessing import LabelEncoder\n",
    "from sklearn.preprocessing import OneHotEncoder\n",
    "from IPython.display import display, Markdown, Latex\n",
    "\n",
    "# Baseline Imports\n",
    "from xgboost import XGBClassifier, XGBRegressor\n",
    "from sklearn.ensemble import RandomForestClassifier, RandomForestRegressor\n",
    "from catboost import CatBoostClassifier, CatBoostRegressor\n",
    "\n",
    "import torch\n",
    "\n",
    "from tabpfn import TabPFNClassifier, TabPFNRegressor\n",
    "from tabpfn_extensions.post_hoc_ensembles.sklearn_interface import AutoTabPFNClassifier, AutoTabPFNRegressor\n"
   ],
   "id": "ab3e0637913fef76",
   "outputs": [],
   "execution_count": 1
  },
  {
   "metadata": {
    "ExecuteTime": {
     "end_time": "2025-06-10T10:56:14.341948Z",
     "start_time": "2025-06-10T10:56:02.206435Z"
    }
   },
   "cell_type": "code",
   "source": [
    "# Stanford databases:\n",
    "# High quality and full datasets\n",
    "\n",
    "urls = [\"https://hivdb.stanford.edu/_wrapper/download/GenoPhenoDatasets/PI_DataSet.txt\",\n",
    "        \"https://hivdb.stanford.edu/_wrapper/download/GenoPhenoDatasets/NRTI_DataSet.txt\",\n",
    "        \"https://hivdb.stanford.edu/_wrapper/download/GenoPhenoDatasets/NNRTI_DataSet.txt\",\n",
    "        \"https://hivdb.stanford.edu/_wrapper/download/GenoPhenoDatasets/INI_DataSet.txt\",\n",
    "        \"https://hivdb.stanford.edu/_wrapper/download/GenoPhenoDatasets/PI_DataSet.Full.txt\",\n",
    "        \"https://hivdb.stanford.edu/_wrapper/download/GenoPhenoDatasets/NRTI_DataSet.Full.txt\",\n",
    "        \"https://hivdb.stanford.edu/_wrapper/download/GenoPhenoDatasets/NNRTI_DataSet.Full.txt\",\n",
    "        \"https://hivdb.stanford.edu/_wrapper/download/GenoPhenoDatasets/INI_DataSet.Full.txt\"]\n",
    "\n",
    "data_storage = r\".\\data\"\n",
    "\n",
    "#importing hq urls\n",
    "for url in urls:\n",
    "    filename = url.split(\"/\")[-1]\n",
    "\n",
    "    urlretrieve(url, data_storage + \"\\\\\" + filename)\n",
    "\n"
   ],
   "id": "cc67c8ce89121665",
   "outputs": [],
   "execution_count": 3
  },
  {
   "metadata": {
    "ExecuteTime": {
     "end_time": "2025-06-16T11:10:47.988703Z",
     "start_time": "2025-06-16T11:10:47.955233Z"
    }
   },
   "cell_type": "code",
   "source": [
    "# table for the encoding of the resistance testing into three classes: \"susceptible\", \"intermediate-level resistant\", \"high-level resistant\" with lower and upper thresholds\n",
    "\n",
    "thresholds = [\n",
    "    [3, 15],    # FPV\n",
    "    [3, 15],    # ATV\n",
    "    [3, 15],    # IDV\n",
    "    [9, 55],    # LPV\n",
    "    [3, 6],     # NFV\n",
    "    [3, 15],    # SQV\n",
    "    [2, 8],     # TPV\n",
    "    [10, 90],   # DRV\n",
    "    [5, 25],    # X3TC\n",
    "    [2, 6],     # ABC\n",
    "    [3, 15],    # AZT\n",
    "    [1.5, 3],   # D4T\n",
    "    [1.5, 3],   # DDI\n",
    "    [1.5, 3],   # TDF\n",
    "    [3, 10],    # EFV\n",
    "    [3, 10],    # NVP\n",
    "    [3, 10],    # ETR\n",
    "    [3, 10],    # RPV\n",
    "]\n",
    "\n",
    "# Define row and column names\n",
    "index = [\"FPV\",\"ATV\",\"IDV\",\"LPV\",\"NFV\",\"SQV\",\"TPV\",\"DRV\",\n",
    "         \"3TC\",\"ABC\",\"AZT\",\"D4T\",\"DDI\",\"TDF\",\n",
    "         \"EFV\",\"NVP\",\"ETR\",\"RPV\"]\n",
    "columns = [\"lower\", \"upper\"]\n",
    "\n",
    "# Create DataFrame\n",
    "cutoff_df = pd.DataFrame(thresholds, index=index, columns=columns)\n",
    "\n",
    "print(cutoff_df.head())"
   ],
   "id": "9ee8e4913b618c8e",
   "outputs": [
    {
     "name": "stdout",
     "output_type": "stream",
     "text": [
      "     lower  upper\n",
      "FPV    3.0     15\n",
      "ATV    3.0     15\n",
      "IDV    3.0     15\n",
      "LPV    9.0     55\n",
      "NFV    3.0      6\n"
     ]
    }
   ],
   "execution_count": 2
  },
  {
   "metadata": {
    "ExecuteTime": {
     "end_time": "2025-06-16T11:11:06.965322Z",
     "start_time": "2025-06-16T11:11:06.845542Z"
    }
   },
   "cell_type": "code",
   "source": [
    "# Reading in and processing high quality File\n",
    "\n",
    "df = pd.read_csv(\"data\\\\PI_DataSet.txt\", sep='\\t')\n",
    "#print(df)\n",
    "df = df.iloc[:,1:-1]\n",
    "#print(df2)\n",
    "\n",
    "#Checking how much data is available for each drug\n",
    "print(df.loc[:,\"FPV\":\"DRV\"].count())\n",
    "\n",
    "#list of current drugs of the dataset\n",
    "drugs = [drug for drug in list(df.columns) if not drug.startswith(\"P\") ]\n",
    "\n",
    "#creating the one hot encoding for the features\n",
    "enc = OneHotEncoder(handle_unknown='error')\n",
    "\n",
    "enc.fit(df.loc[:,[drug for drug in list(df.columns) if drug.startswith(\"P\")]])\n",
    "\n",
    "print(enc.categories_)\n"
   ],
   "id": "5108b2eed56407a4",
   "outputs": [
    {
     "name": "stdout",
     "output_type": "stream",
     "text": [
      "FPV    2246\n",
      "ATV    1656\n",
      "IDV    2297\n",
      "LPV    1999\n",
      "NFV    2344\n",
      "SQV    2298\n",
      "TPV    1345\n",
      "DRV    1116\n",
      "dtype: int64\n",
      "[array(['-', '.'], dtype=object), array(['-', '.', 'Q*', 'V'], dtype=object), array(['-', '.', 'F', 'IT', 'IV', 'L', 'M', 'V'], dtype=object), array(['-', '.', 'A', 'D', 'P', 'PS', 'S', 'TA', 'TN', 'TP', 'TS'],\n",
      "      dtype=object), array(['-', '.', 'F', 'LF', 'LH', 'LI', 'LV'], dtype=object), array(['-', '.', 'GV', 'P', 'R', 'S', 'W*', 'WC', 'WL', 'WLS', 'WR', 'WS',\n",
      "       'X'], dtype=object), array(['-', '.', 'E', 'K', 'QH', 'QK', 'QR', 'R'], dtype=object), array(['-', '.', 'Q', 'R*', 'RG', 'RQ'], dtype=object), array(['-', '.', 'PAS', 'PL', 'PS', 'X'], dtype=object), array(['-', '.', 'C', 'CF', 'F', 'FI', 'FIV', 'FV', 'H', 'I', 'IF', 'IM',\n",
      "       'IST', 'IT', 'IV', 'LF', 'LFI', 'LFV', 'LI', 'LIV', 'LR', 'LV',\n",
      "       'M', 'R', 'S', 'V', 'VF', 'VI', 'X', 'Y'], dtype=object), array(['-', '.', 'I', 'IL', 'IT', 'L', 'LI', 'VA', 'VF', 'VG', 'VI',\n",
      "       'VIL', 'VL'], dtype=object), array(['-', '.', 'A', 'AP', 'AS', 'D', 'E', 'I', 'K', 'LS', 'M', 'N', 'P',\n",
      "       'PS', 'Q', 'R', 'S', 'TA', 'TAS', 'TI', 'TK', 'TKN', 'TN', 'TP',\n",
      "       'TR', 'TS', 'V', 'X'], dtype=object), array(['-', '.', 'A', 'AV', 'GV', 'IA', 'IL', 'IM', 'IMV', 'IV', 'L',\n",
      "       'LV', 'M', 'V', 'X'], dtype=object), array(['-', '.', 'E', 'G', 'K*', 'KE', 'KIM', 'KN', 'KR', 'KT', 'N', 'NS',\n",
      "       'R', 'T', 'X'], dtype=object), array(['-', '.', 'EV', 'IK', 'IL', 'IM', 'IT', 'IV', 'L', 'N', 'R', 'V'],\n",
      "      dtype=object), array(['-', '.', 'A', 'AS', 'E', 'EK', 'GA', 'GE', 'GR', 'GRW', 'GV',\n",
      "       'GW', 'N', 'Q', 'X'], dtype=object), array(['-', '.', 'D', 'DE', 'E', 'GE'], dtype=object), array(['-', '.', 'E', 'H', 'I', 'K', 'L', 'QE', 'QH', 'QK', 'QL', 'QR',\n",
      "       'R'], dtype=object), array(['-', '.', 'E', 'EQ', 'I', 'IM', 'IMV', 'IT', 'IV', 'L*', 'LI',\n",
      "       'LIM', 'LIV', 'LM', 'LP', 'LQ', 'LS', 'LV', 'M', 'MT', 'P', 'Q',\n",
      "       'R', 'S', 'T', 'V', 'W', 'X'], dtype=object), array(['-', '.', 'AT', 'E', 'EV', 'I', 'IM', 'IMR', 'IT', 'IV', 'KE',\n",
      "       'KI', 'KIM', 'KIT', 'KLM', 'KM', 'KQ', 'KR', 'KT', 'L', 'M', 'MT',\n",
      "       'MV', 'N', 'Q', 'R', 'RM', 'RT', 'T', 'V', 'X'], dtype=object), array(['-', 'D', 'E*', 'ED', 'EDV', 'EG', 'EK', 'EV', 'K', 'Q'],\n",
      "      dtype=object), array(['-', 'AP', 'AS', 'AV', 'T', 'V'], dtype=object), array(['-', 'F', 'I', 'LI', 'LP', 'LV'], dtype=object), array(['-', 'F', 'I', 'IK', 'L*', 'LF', 'LI', 'LIM', 'LS', 'M'],\n",
      "      dtype=object), array(['-', 'DE', 'DN', 'DV'], dtype=object), array(['-', 'TA', 'TI', 'TP'], dtype=object), array(['-', 'GE'], dtype=object), array(['-', 'AE', 'AP'], dtype=object), array(['-', 'DE', 'DG', 'DN', 'DV'], dtype=object), array(['-', 'DN', 'N'], dtype=object), array(['-', 'TA'], dtype=object), array(['-', 'I', 'M', 'V', 'VA', 'VI'], dtype=object), array(['-', 'F', 'I', 'IM', 'IV', 'L*', 'LE', 'LEQ', 'LF', 'LI', 'LIV',\n",
      "       'LV', 'M', 'V'], dtype=object), array(['-', 'A', 'D', 'EA', 'ED', 'EF', 'EK', 'EQ', 'EV', 'H', 'K', 'KQ',\n",
      "       'KR', 'LV', 'N', 'Q', 'QR', 'R', 'S', 'T', 'V', 'X'], dtype=object), array(['-', 'A', 'D', 'DN', 'ED', 'EG', 'EK', 'G', 'H', 'K', 'N', 'NS',\n",
      "       'Q', 'S', 'X'], dtype=object), array(['-', 'A', 'I', 'IL', 'IT', 'IV', 'L', 'LV', 'MI', 'MIL', 'MIV',\n",
      "       'ML', 'MT', 'MV', 'T', 'V'], dtype=object), array(['-', 'A', 'AV', 'C', 'CS', 'CY', 'D', 'DE', 'DEG', 'E', 'H', 'HQ',\n",
      "       'K', 'ND', 'NDH', 'NH', 'NI', 'NK', 'NS', 'NT', 'NY', 'P', 'Q',\n",
      "       'RS', 'S', 'ST', 'T', 'V', 'X', 'Y'], dtype=object), array(['-', 'I', 'IM', 'LF', 'LIM', 'LM', 'LW', 'V'], dtype=object), array(['-', 'KT', 'L', 'PL', 'PQ', 'PQS', 'PS', 'PT', 'Q', 'S', 'ST', 'T',\n",
      "       'X'], dtype=object), array(['-', 'GE', 'GR'], dtype=object), array(['-', 'A', 'E', 'H', 'I', 'IK', 'K', 'KN', 'N', 'P', 'Q', 'RIK',\n",
      "       'RK'], dtype=object), array(['-'], dtype=object), array(['-', 'A', 'E', 'I', 'IT', 'KE', 'KIT', 'KN', 'KQ', 'KR', 'KT', 'Q',\n",
      "       'R', 'RS', 'S', 'T', 'X'], dtype=object), array(['-', 'PL', 'PS'], dtype=object), array(['-', 'GR', 'I', 'KN', 'KQ', 'KR', 'L', 'MI', 'N', 'Q', 'R', 'V'],\n",
      "      dtype=object), array(['-', 'I', 'IL', 'IT', 'IV', 'L', 'LS', 'LV', 'LW', 'MI', 'MIL',\n",
      "       'MIV', 'ML', 'MT', 'MV', 'V', 'VL'], dtype=object), array(['-', 'A', 'AV', 'E', 'I', 'IM', 'IV', 'V'], dtype=object), array(['-', 'A', 'E', 'EV', 'GA', 'GE', 'GV', 'GW', 'I', 'L', 'LV', 'M',\n",
      "       'MV', 'Q', 'S', 'T', 'V', 'X'], dtype=object), array(['-', 'GE', 'GR'], dtype=object), array(['-', 'IL', 'ILM', 'IV', 'L', 'V'], dtype=object), array(['-', 'A'], dtype=object), array(['-', 'GA'], dtype=object), array(['-', 'FI', 'FL', 'FY', 'I', 'IV', 'L', 'PS', 'X', 'Y'],\n",
      "      dtype=object), array(['-', 'A', 'AV', 'CST', 'IL', 'ILM', 'IM', 'IT', 'IV', 'IVM', 'L',\n",
      "       'LP', 'LV', 'M', 'MV', 'S', 'ST', 'T', 'V', 'VPS'], dtype=object), array(['-', 'KN', 'KQ', 'KR', 'KT', 'N', 'R', 'T'], dtype=object), array(['-'], dtype=object), array(['-', 'G', 'K', 'RG', 'RK'], dtype=object), array(['-', 'E', 'QE', 'QH', 'QP'], dtype=object), array(['-', 'F', 'H', 'YC', 'YF', 'YH'], dtype=object), array(['-', 'DE', 'DN', 'E', 'EK', 'K', 'N', 'NS', 'Q', 'X', 'Y'],\n",
      "      dtype=object), array(['-', 'D', 'DN', 'E', 'EG', 'EK', 'G', 'H', 'HN', 'K', 'KR', 'N',\n",
      "       'QE', 'QH', 'QHR', 'QP', 'QR', 'R', 'X'], dtype=object), array(['-', 'IL', 'IMV', 'IV', 'M', 'V'], dtype=object), array(['-', 'A', 'AP', 'APS', 'AS', 'AST', 'AT', 'AV', 'C', 'CR', 'CS',\n",
      "       'D', 'DN', 'E', 'H', 'HP', 'HQ', 'KQ', 'LF', 'LH', 'LHP', 'LHQ',\n",
      "       'LI', 'LIV', 'LP', 'LQ', 'P', 'PA', 'PR', 'PS', 'PT', 'Q', 'R',\n",
      "       'S', 'ST', 'T', 'V', 'X'], dtype=object), array(['-', 'IL', 'ILM', 'IM', 'IV', 'L', 'LV', 'M', 'V', 'X'],\n",
      "      dtype=object), array(['-', 'D', 'ED', 'EK', 'K', 'X'], dtype=object), array(['-', 'F', 'FL', 'IF', 'IL', 'IN', 'IT', 'IV', 'L', 'T', 'V'],\n",
      "      dtype=object), array(['-', 'CF', 'CG', 'CS', 'CW', 'CY', 'D', 'DG', 'E', 'F', 'FL', 'FY',\n",
      "       'G', 'H', 'L', 'M', 'S', 'W', 'X', 'Y'], dtype=object), array(['-', 'D', 'E', 'GD', 'GE', 'W'], dtype=object), array(['-', 'DN', 'HLQ', 'HN', 'HP', 'HQ', 'HR', 'HY', 'K', 'KQ', 'KR',\n",
      "       'N', 'P', 'Q', 'QK', 'QR', 'R', 'X', 'Y'], dtype=object), array(['-', 'E', 'KE', 'KNT', 'KQ', 'KR', 'KT', 'N', 'Q', 'R', 'T', 'V'],\n",
      "      dtype=object), array(['-', 'AT', 'AV', 'F', 'FI', 'I', 'ILM', 'ILV', 'IMT', 'IT', 'IV',\n",
      "       'L', 'LV', 'M', 'T', 'TI', 'TV', 'V', 'VI', 'VL', 'X'],\n",
      "      dtype=object), array(['-', 'AT', 'E', 'EK', 'EV', 'F', 'IK', 'IL', 'ILM', 'ILR', 'ILV',\n",
      "       'IM', 'IMT', 'IMV', 'IR', 'IT', 'IV', 'K', 'KR', 'L', 'LM', 'LV',\n",
      "       'M', 'MT', 'MV', 'N', 'Q', 'R', 'RK', 'T', 'V', 'X', 'Y'],\n",
      "      dtype=object), array(['-', 'A', 'AT', 'C', 'CS', 'D', 'GA', 'GC', 'GCS', 'GD', 'GS',\n",
      "       'GV', 'I', 'IT', 'NS', 'S', 'ST', 'T', 'TS', 'V', 'X'],\n",
      "      dtype=object), array(['-', 'A', 'AS', 'D', 'E', 'K', 'KR', 'P', 'PS', 'Q', 'S', 'TA',\n",
      "       'TK', 'TP', 'TS', 'X'], dtype=object), array(['-', 'I', 'VI'], dtype=object), array(['-', 'L', 'LV', 'V'], dtype=object), array(['-', 'G', 'I', 'IL', 'IM', 'L', 'Q', 'T', 'VI', 'VIM'],\n",
      "      dtype=object), array(['-', 'GR'], dtype=object), array(['-', 'A', 'AD', 'AG', 'AS', 'D', 'DN', 'H', 'HQ', 'N', 'PA', 'PAS',\n",
      "       'PS', 'PT', 'Q', 'S', 'X'], dtype=object), array(['-', 'P', 'TA'], dtype=object), array(['-', 'PH'], dtype=object), array(['-', 'A', 'AS', 'AT', 'C', 'F', 'I', 'L', 'M', 'S', 'ST', 'T', 'V',\n",
      "       'VA', 'VF', 'VI', 'VIL', 'VL', 'X'], dtype=object), array(['-', 'D', 'H', 'ND', 'NK', 'NS', 'NY', 'P', 'S'], dtype=object), array(['-', 'A', 'AV', 'C', 'IV', 'T', 'V'], dtype=object), array(['-', 'IF', 'IKN', 'IL', 'IM', 'IMV', 'IV', 'L', 'M', 'V'],\n",
      "      dtype=object), array(['-', 'GR', 'X'], dtype=object), array(['-', 'RG', 'RI', 'RK', 'RT'], dtype=object), array(['-', 'D', 'G', 'ND', 'NDS', 'NS', 'NT', 'S', 'T', 'Y'],\n",
      "      dtype=object), array(['-', 'A', 'F', 'I', 'IM', 'IV', 'LF', 'LIM', 'LM', 'LP', 'LR',\n",
      "       'LV', 'M', 'MT', 'MV', 'R', 'S', 'T', 'V', 'X'], dtype=object), array(['-', 'IM', 'LIM', 'LM', 'LS', 'LW', 'M', 'MV', 'V'], dtype=object), array(['-', 'A', 'FS', 'K', 'N', 'S', 'TA', 'TCS', 'TS'], dtype=object), array(['-', 'E', 'K', 'QH', 'QK', 'QKR', 'QR', 'R'], dtype=object), array(['-', '.', 'IL', 'ILM', 'IM', 'IV', 'L', 'LM', 'M'], dtype=object), array(['-', '.', 'D', 'GCW', 'GD', 'S', 'X'], dtype=object), array(['-', '.', 'CF', 'CR', 'CY', 'F', 'G', 'L', 'V', 'X'], dtype=object), array(['-', '.', 'S', 'TI', 'TP', 'TS'], dtype=object), array(['-', '.', 'I'], dtype=object), array(['-', '.', 'I', 'ND', 'NI', 'NK', 'V'], dtype=object), array(['-', '.', 'FI', 'FS', 'Y'], dtype=object)]\n"
     ]
    }
   ],
   "execution_count": 3
  },
  {
   "metadata": {
    "ExecuteTime": {
     "end_time": "2025-06-16T11:12:43.615972Z",
     "start_time": "2025-06-16T11:12:43.520093Z"
    }
   },
   "cell_type": "code",
   "source": [
    "#print(drug)\n",
    "drug = 'DRV'\n",
    "\n",
    "tmp_drugs = drugs.copy()\n",
    "#print(tmp_drugs)\n",
    "tmp_drugs.remove(drug)\n",
    "#print(tmp_drugs)\n",
    "last_col = list(df.columns)[-1]\n",
    "dataframe = df.drop(tmp_drugs, axis=1)\n",
    "\n",
    "#print(dataframe.head())\n",
    "\n",
    "dataframe = dataframe.dropna()\n",
    "\n",
    "# encoding the levels of susceptibility as 0 for susceptible, 1 as partly resistant and 2 as compeltly resistant\n",
    "dataframe.loc[dataframe[drug] < cutoff_df.loc[drug, \"lower\"], drug + \"_level\"] = 0\n",
    "dataframe.loc[dataframe[drug] >= cutoff_df.loc[drug, \"upper\"], drug + \"_level\"] = 2\n",
    "dataframe.loc[(dataframe[drug] >= cutoff_df.loc[drug, \"lower\"]) & (dataframe[drug] < cutoff_df.loc[drug, \"upper\"]), drug + \"_level\"] = 1\n",
    "\n",
    "#print(dataframe.head())\n",
    "\n",
    "X, y = dataframe.drop([drug, drug + \"_level\"], axis=1), np.array(dataframe[drug + \"_level\"])\n",
    "\n",
    "#print(X)\n",
    "\n",
    "X_trafo = enc.transform(X).toarray()\n",
    "\n",
    "print(X_trafo.shape)\n",
    "\n",
    "print(y.shape)\n",
    "\n",
    "X_train, X_test, y_train, y_test = train_test_split(X_trafo, y, test_size=0.33, random_state=42)\n"
   ],
   "id": "f53dd7feb9d6b0d",
   "outputs": [
    {
     "name": "stdout",
     "output_type": "stream",
     "text": [
      "(1116, 1056)\n",
      "(1116,)\n"
     ]
    }
   ],
   "execution_count": 6
  },
  {
   "metadata": {
    "ExecuteTime": {
     "end_time": "2025-06-16T11:56:45.581638Z",
     "start_time": "2025-06-16T11:24:47.180802Z"
    }
   },
   "cell_type": "code",
   "source": [
    "\n",
    "# Train and evaluate TabPFN\n",
    "y_pred = TabPFNClassifier(random_state=42, ignore_pretraining_limits=True).fit(X_train, y_train).predict_proba(X_test)\n",
    "\n",
    "# Calculate ROC AUC (handles both binary and multiclass)\n",
    "score = roc_auc_score(y_test, y_pred if len(np.unique(y)) > 2 else y_pred[:, 1], multi_class='ovr')\n",
    "print(f\"TabPFN ROC AUC: {score:.4f}\")\n"
   ],
   "id": "ed1401b9903ec238",
   "outputs": [
    {
     "name": "stderr",
     "output_type": "stream",
     "text": [
      "C:\\Users\\flori\\anaconda3\\Lib\\site-packages\\tabpfn\\classifier.py:422: UserWarning: Number of features 1056 is greater than the maximum Number of features 500 supported by the model. You may see degraded performance.\n",
      "  X, y, feature_names_in, n_features_in = validate_Xy_fit(\n"
     ]
    },
    {
     "name": "stdout",
     "output_type": "stream",
     "text": [
      "TabPFN ROC AUC: 0.9752\n"
     ]
    }
   ],
   "execution_count": 12
  },
  {
   "metadata": {
    "ExecuteTime": {
     "end_time": "2025-06-12T14:38:27.588693Z",
     "start_time": "2025-06-12T14:38:27.563463Z"
    }
   },
   "cell_type": "code",
   "source": [
    "#ROC AUC without one hot encoding, took around 19 min for FVR: 0.9506\n",
    "##ROC AUC without one hot encoding, took around 5 min 30 s for DVR: 0.9728\n",
    "# ROC AUC with one hot encoding, took around 36 min 28 s for DVR: 0.9752\n",
    "\n",
    "# Calculate ROC AUC (handles both binary and multiclass)\n",
    "score = roc_auc_score(y_test, y_pred if len(np.unique(y)) > 2 else y_pred[:, 1], multi_class='ovr')\n",
    "print(f\"TabPFN ROC AUC: {score:.4f}\")\n",
    "'''\n",
    "# Calculate ROC AUC (handles both binary and multiclass)\n",
    "score = roc_auc_score(y_test, y_pred if len(np.unique(y)) > 2 else y_pred[:, 1], multi_class='ovo', average='macro')\n",
    "print(f\"TabPFN ROC AUC: {score:.4f}\")'''"
   ],
   "id": "27d167cf413510f8",
   "outputs": [
    {
     "name": "stdout",
     "output_type": "stream",
     "text": [
      "TabPFN ROC AUC: 0.9752\n"
     ]
    },
    {
     "data": {
      "text/plain": [
       "'\\n# Calculate ROC AUC (handles both binary and multiclass)\\nscore = roc_auc_score(y_test, y_pred if len(np.unique(y)) > 2 else y_pred[:, 1], multi_class=\\'ovo\\', average=\\'macro\\')\\nprint(f\"TabPFN ROC AUC: {score:.4f}\")'"
      ]
     },
     "execution_count": 7,
     "metadata": {},
     "output_type": "execute_result"
    }
   ],
   "execution_count": 7
  },
  {
   "metadata": {
    "ExecuteTime": {
     "end_time": "2025-06-16T12:15:57.239608Z",
     "start_time": "2025-06-16T12:15:13.503826Z"
    }
   },
   "cell_type": "code",
   "source": [
    "# Define models\n",
    "models = [\n",
    "    #('TabPFN', TabPFNClassifier(random_state=42)),\n",
    "    ('RandomForest', RandomForestClassifier(random_state=42)),\n",
    "    ('XGBoost', XGBClassifier(random_state=42)),\n",
    "    ('CatBoost', CatBoostClassifier(random_state=42, verbose=0))\n",
    "]\n",
    "\n",
    "# Calculate scores\n",
    "scoring = 'roc_auc_ovr' if len(np.unique(y)) > 2 else 'roc_auc'\n",
    "scores = {name: cross_val_score(model, X_trafo, y, cv=5, scoring=scoring, n_jobs=1, verbose=1).mean()\n",
    "          for name, model in models}\n",
    "scores.update({'TabPFN':score})\n",
    "\n",
    "# Plot results\n",
    "df = pd.DataFrame(list(scores.items()), columns=['Model', 'ROC AUC'])\n",
    "ax = df.plot(x='Model', y='ROC AUC', kind='bar', figsize=(10, 6))\n",
    "ax.set_ylim(df['ROC AUC'].min() * 0.995, min(1.0, df['ROC AUC'].max() * 1.005))\n",
    "ax.set_title('Model Comparison - 5-fold Cross-validation')"
   ],
   "id": "b9a96e0b5667cb10",
   "outputs": [
    {
     "data": {
      "text/plain": [
       "Text(0.5, 1.0, 'Model Comparison - 5-fold Cross-validation')"
      ]
     },
     "execution_count": 13,
     "metadata": {},
     "output_type": "execute_result"
    },
    {
     "data": {
      "text/plain": [
       "<Figure size 1000x600 with 1 Axes>"
      ],
      "image/png": "[encoded data removed]"
     },
     "metadata": {},
     "output_type": "display_data"
    }
   ],
   "execution_count": 13
  },
  {
   "metadata": {
    "ExecuteTime": {
     "end_time": "2025-06-12T11:58:01.530199Z",
     "start_time": "2025-06-12T11:57:59.940663Z"
    }
   },
   "cell_type": "code",
   "source": [
    "#print(drugs)\n",
    "\n",
    "#going through the drugs and splitting them to test and training depending on the drug\n",
    "\n",
    "for drug in drugs:\n",
    "    #print(drug)\n",
    "    tmp_drugs = drugs.copy()\n",
    "    #print(tmp_drugs)\n",
    "    tmp_drugs.remove(drug)\n",
    "    #print(tmp_drugs)\n",
    "    last_col = list(df.columns)[-1]\n",
    "    dataframe = df.drop(tmp_drugs, axis=1)\n",
    "\n",
    "    #print(dataframe.head())\n",
    "\n",
    "    dataframe = dataframe.dropna()\n",
    "\n",
    "    # encoding the levels of susceptibility as 0 for susceptible, 1 as partly resistant and 2 as compeltly resistant\n",
    "    dataframe.loc[dataframe[drug] < cutoff_df.loc[drug, \"lower\"], drug + \"_level\"] = 0\n",
    "    dataframe.loc[dataframe[drug] >= cutoff_df.loc[drug, \"upper\"], drug + \"_level\"] = 2\n",
    "    dataframe.loc[(dataframe[drug] >= cutoff_df.loc[drug, \"lower\"]) & (dataframe[drug] < cutoff_df.loc[drug, \"upper\"]), drug + \"_level\"] = 1\n",
    "\n",
    "    #print(dataframe.head())\n",
    "\n",
    "    X, y = dataframe.drop([drug, drug + \"_level\"], axis=1), np.array(dataframe[drug + \"_level\"])\n",
    "\n",
    "    print(X)\n",
    "\n",
    "    X_trafo = enc.transform(X).toarray()\n",
    "\n",
    "    print(X_trafo.shape)\n",
    "\n",
    "    #print(y)\n",
    "'''\n",
    "    # Convert all categorical columns to numeric\n",
    "    for col in X.select_dtypes(['category']).columns:\n",
    "        X[col] = X[col].cat.codes\n",
    "\n",
    "    X_train, X_test, y_train, y_test = train_test_split(X, y, test_size=0.33, random_state=42)\n",
    "'''"
   ],
   "id": "84bf7be283532c21",
   "outputs": [
    {
     "name": "stdout",
     "output_type": "stream",
     "text": [
      "     P1 P2 P3 P4 P5 P6 P7 P8 P9 P10  ... P90 P91 P92 P93 P94 P95 P96 P97 P98  \\\n",
      "0     -  -  -  -  -  -  -  -  -   -  ...   -   -   -   -   -   -   -   -   -   \n",
      "1     -  -  -  -  -  -  -  -  -   -  ...   -   -   -   -   -   -   -   -   -   \n",
      "2     -  -  -  -  -  -  -  -  -   -  ...   -   -   -   -   -   -   -   -   -   \n",
      "3     -  -  -  -  -  -  -  -  -   R  ...   -   -   -   -   -   -   -   -   -   \n",
      "4     -  -  -  -  -  -  -  -  -   I  ...   M   -   -   -   -   -   -   -   -   \n",
      "...  .. .. .. .. .. .. .. .. ..  ..  ...  ..  ..  ..  ..  ..  ..  ..  ..  ..   \n",
      "2389  -  -  -  -  -  -  -  -  -   I  ...   M   -   -   L   -   -   -   -   -   \n",
      "2390  -  -  -  -  -  -  -  -  -   I  ...   -   -   -   -   -   -   -   -   -   \n",
      "2391  -  -  -  -  -  -  -  -  -   I  ...   -   -   -   -   -   -   -   -   -   \n",
      "2393  -  -  -  -  -  -  -  -  -   -  ...   M   -   -   L   -   -   -   -   -   \n",
      "2394  -  -  -  -  -  -  -  -  -   I  ...   M   -   -   L   -   -   -   -   -   \n",
      "\n",
      "     P99  \n",
      "0      -  \n",
      "1      -  \n",
      "2      -  \n",
      "3      -  \n",
      "4      -  \n",
      "...   ..  \n",
      "2389   -  \n",
      "2390   -  \n",
      "2391   -  \n",
      "2393   -  \n",
      "2394   -  \n",
      "\n",
      "[2246 rows x 99 columns]\n",
      "(2246, 1056)\n",
      "     P1 P2 P3 P4 P5 P6 P7 P8 P9 P10  ... P90 P91 P92 P93 P94 P95 P96 P97 P98  \\\n",
      "15    -  -  -  -  -  -  -  -  -   -  ...   -   -   -   -   -   -   -   -   -   \n",
      "16    -  -  -  -  -  -  -  -  -   -  ...   -   -   -   -   -   -   -   -   -   \n",
      "17    -  -  -  -  -  -  -  -  -   -  ...   -   -   -   -   -   -   -   -   -   \n",
      "18    -  -  -  -  -  -  -  -  -   -  ...   -   -   -   -   -   -   -   -   -   \n",
      "19    -  -  -  -  -  -  -  -  -   -  ...   -   -   -   -   -   -   -   -   -   \n",
      "...  .. .. .. .. .. .. .. .. ..  ..  ...  ..  ..  ..  ..  ..  ..  ..  ..  ..   \n",
      "2389  -  -  -  -  -  -  -  -  -   I  ...   M   -   -   L   -   -   -   -   -   \n",
      "2390  -  -  -  -  -  -  -  -  -   I  ...   -   -   -   -   -   -   -   -   -   \n",
      "2392  -  -  -  -  -  -  -  -  -   -  ...   -   -   -   L   -   -   -   -   -   \n",
      "2393  -  -  -  -  -  -  -  -  -   -  ...   M   -   -   L   -   -   -   -   -   \n",
      "2394  -  -  -  -  -  -  -  -  -   I  ...   M   -   -   L   -   -   -   -   -   \n",
      "\n",
      "     P99  \n",
      "15     -  \n",
      "16     -  \n",
      "17     -  \n",
      "18     -  \n",
      "19     -  \n",
      "...   ..  \n",
      "2389   -  \n",
      "2390   -  \n",
      "2392   -  \n",
      "2393   -  \n",
      "2394   -  \n",
      "\n",
      "[1656 rows x 99 columns]\n",
      "(1656, 1056)\n",
      "     P1 P2 P3 P4 P5 P6 P7 P8 P9 P10  ... P90 P91 P92 P93 P94 P95 P96 P97 P98  \\\n",
      "0     -  -  -  -  -  -  -  -  -   -  ...   -   -   -   -   -   -   -   -   -   \n",
      "1     -  -  -  -  -  -  -  -  -   -  ...   -   -   -   -   -   -   -   -   -   \n",
      "2     -  -  -  -  -  -  -  -  -   -  ...   -   -   -   -   -   -   -   -   -   \n",
      "3     -  -  -  -  -  -  -  -  -   R  ...   -   -   -   -   -   -   -   -   -   \n",
      "4     -  -  -  -  -  -  -  -  -   I  ...   M   -   -   -   -   -   -   -   -   \n",
      "...  .. .. .. .. .. .. .. .. ..  ..  ...  ..  ..  ..  ..  ..  ..  ..  ..  ..   \n",
      "2389  -  -  -  -  -  -  -  -  -   I  ...   M   -   -   L   -   -   -   -   -   \n",
      "2390  -  -  -  -  -  -  -  -  -   I  ...   -   -   -   -   -   -   -   -   -   \n",
      "2391  -  -  -  -  -  -  -  -  -   I  ...   -   -   -   -   -   -   -   -   -   \n",
      "2393  -  -  -  -  -  -  -  -  -   -  ...   M   -   -   L   -   -   -   -   -   \n",
      "2394  -  -  -  -  -  -  -  -  -   I  ...   M   -   -   L   -   -   -   -   -   \n",
      "\n",
      "     P99  \n",
      "0      -  \n",
      "1      -  \n",
      "2      -  \n",
      "3      -  \n",
      "4      -  \n",
      "...   ..  \n",
      "2389   -  \n",
      "2390   -  \n",
      "2391   -  \n",
      "2393   -  \n",
      "2394   -  \n",
      "\n",
      "[2297 rows x 99 columns]\n",
      "(2297, 1056)\n",
      "     P1 P2 P3 P4 P5 P6 P7 P8 P9 P10  ... P90 P91 P92 P93 P94 P95 P96 P97 P98  \\\n",
      "27    -  -  -  -  -  -  -  -  -   -  ...   M   -   -   -   -   -   -   -   -   \n",
      "28    -  -  -  -  -  -  -  -  -   R  ...   -   -   -   -   -   -   -   -   -   \n",
      "29    -  -  -  -  -  -  -  -  -   -  ...   -   -   -   -   -   -   -   -   -   \n",
      "30    -  -  -  -  -  -  -  -  -   -  ...   -   -   -   -   -   -   -   -   -   \n",
      "31    -  -  -  -  -  -  -  -  -   -  ...   -   -   -   -   -   -   -   -   -   \n",
      "...  .. .. .. .. .. .. .. .. ..  ..  ...  ..  ..  ..  ..  ..  ..  ..  ..  ..   \n",
      "2390  -  -  -  -  -  -  -  -  -   I  ...   -   -   -   -   -   -   -   -   -   \n",
      "2391  -  -  -  -  -  -  -  -  -   I  ...   -   -   -   -   -   -   -   -   -   \n",
      "2392  -  -  -  -  -  -  -  -  -   -  ...   -   -   -   L   -   -   -   -   -   \n",
      "2393  -  -  -  -  -  -  -  -  -   -  ...   M   -   -   L   -   -   -   -   -   \n",
      "2394  -  -  -  -  -  -  -  -  -   I  ...   M   -   -   L   -   -   -   -   -   \n",
      "\n",
      "     P99  \n",
      "27     -  \n",
      "28     -  \n",
      "29     -  \n",
      "30     -  \n",
      "31     -  \n",
      "...   ..  \n",
      "2390   -  \n",
      "2391   -  \n",
      "2392   -  \n",
      "2393   -  \n",
      "2394   -  \n",
      "\n",
      "[1999 rows x 99 columns]\n",
      "(1999, 1056)\n",
      "     P1 P2 P3 P4 P5 P6 P7 P8 P9 P10  ... P90 P91 P92 P93 P94 P95 P96 P97 P98  \\\n",
      "0     -  -  -  -  -  -  -  -  -   -  ...   -   -   -   -   -   -   -   -   -   \n",
      "1     -  -  -  -  -  -  -  -  -   -  ...   -   -   -   -   -   -   -   -   -   \n",
      "2     -  -  -  -  -  -  -  -  -   -  ...   -   -   -   -   -   -   -   -   -   \n",
      "3     -  -  -  -  -  -  -  -  -   R  ...   -   -   -   -   -   -   -   -   -   \n",
      "4     -  -  -  -  -  -  -  -  -   I  ...   M   -   -   -   -   -   -   -   -   \n",
      "...  .. .. .. .. .. .. .. .. ..  ..  ...  ..  ..  ..  ..  ..  ..  ..  ..  ..   \n",
      "2389  -  -  -  -  -  -  -  -  -   I  ...   M   -   -   L   -   -   -   -   -   \n",
      "2390  -  -  -  -  -  -  -  -  -   I  ...   -   -   -   -   -   -   -   -   -   \n",
      "2391  -  -  -  -  -  -  -  -  -   I  ...   -   -   -   -   -   -   -   -   -   \n",
      "2393  -  -  -  -  -  -  -  -  -   -  ...   M   -   -   L   -   -   -   -   -   \n",
      "2394  -  -  -  -  -  -  -  -  -   I  ...   M   -   -   L   -   -   -   -   -   \n",
      "\n",
      "     P99  \n",
      "0      -  \n",
      "1      -  \n",
      "2      -  \n",
      "3      -  \n",
      "4      -  \n",
      "...   ..  \n",
      "2389   -  \n",
      "2390   -  \n",
      "2391   -  \n",
      "2393   -  \n",
      "2394   -  \n",
      "\n",
      "[2344 rows x 99 columns]\n",
      "(2344, 1056)\n",
      "     P1 P2 P3 P4 P5 P6 P7 P8 P9 P10  ... P90 P91 P92 P93 P94 P95 P96 P97 P98  \\\n",
      "0     -  -  -  -  -  -  -  -  -   -  ...   -   -   -   -   -   -   -   -   -   \n",
      "1     -  -  -  -  -  -  -  -  -   -  ...   -   -   -   -   -   -   -   -   -   \n",
      "2     -  -  -  -  -  -  -  -  -   -  ...   -   -   -   -   -   -   -   -   -   \n",
      "3     -  -  -  -  -  -  -  -  -   R  ...   -   -   -   -   -   -   -   -   -   \n",
      "4     -  -  -  -  -  -  -  -  -   I  ...   M   -   -   -   -   -   -   -   -   \n",
      "...  .. .. .. .. .. .. .. .. ..  ..  ...  ..  ..  ..  ..  ..  ..  ..  ..  ..   \n",
      "2389  -  -  -  -  -  -  -  -  -   I  ...   M   -   -   L   -   -   -   -   -   \n",
      "2390  -  -  -  -  -  -  -  -  -   I  ...   -   -   -   -   -   -   -   -   -   \n",
      "2391  -  -  -  -  -  -  -  -  -   I  ...   -   -   -   -   -   -   -   -   -   \n",
      "2393  -  -  -  -  -  -  -  -  -   -  ...   M   -   -   L   -   -   -   -   -   \n",
      "2394  -  -  -  -  -  -  -  -  -   I  ...   M   -   -   L   -   -   -   -   -   \n",
      "\n",
      "     P99  \n",
      "0      -  \n",
      "1      -  \n",
      "2      -  \n",
      "3      -  \n",
      "4      -  \n",
      "...   ..  \n",
      "2389   -  \n",
      "2390   -  \n",
      "2391   -  \n",
      "2393   -  \n",
      "2394   -  \n",
      "\n",
      "[2298 rows x 99 columns]\n",
      "(2298, 1056)\n",
      "     P1 P2 P3 P4 P5 P6 P7 P8 P9 P10  ... P90 P91 P92 P93 P94 P95 P96 P97 P98  \\\n",
      "59    -  -  -  -  -  -  -  -  -   -  ...   -   -   -   -   -   -   -   -   -   \n",
      "60    -  -  -  -  -  -  -  -  -   I  ...   M   -   -   -   -   L   -   -   -   \n",
      "62    -  -  -  -  -  -  -  -  -   C  ...  LM   -   -   L   -   -   -   -   -   \n",
      "65    -  -  -  -  -  -  -  -  -   -  ...   -   -   -   L   -   -   -   -   -   \n",
      "67    -  -  -  -  -  -  -  -  -   -  ...   -   -   -  IL   -   -   -   -   -   \n",
      "...  .. .. .. .. .. .. .. .. ..  ..  ...  ..  ..  ..  ..  ..  ..  ..  ..  ..   \n",
      "2388  -  -  -  -  -  -  -  -  -   I  ...   M   -   -   -   -   -   -   -   -   \n",
      "2389  -  -  -  -  -  -  -  -  -   I  ...   M   -   -   L   -   -   -   -   -   \n",
      "2390  -  -  -  -  -  -  -  -  -   I  ...   -   -   -   -   -   -   -   -   -   \n",
      "2393  -  -  -  -  -  -  -  -  -   -  ...   M   -   -   L   -   -   -   -   -   \n",
      "2394  -  -  -  -  -  -  -  -  -   I  ...   M   -   -   L   -   -   -   -   -   \n",
      "\n",
      "     P99  \n",
      "59     -  \n",
      "60     -  \n",
      "62     -  \n",
      "65     -  \n",
      "67     -  \n",
      "...   ..  \n",
      "2388   -  \n",
      "2389   -  \n",
      "2390   -  \n",
      "2393   -  \n",
      "2394   -  \n",
      "\n",
      "[1345 rows x 99 columns]\n",
      "(1345, 1056)\n",
      "     P1 P2 P3 P4 P5 P6 P7 P8 P9 P10  ... P90 P91 P92 P93 P94 P95 P96 P97 P98  \\\n",
      "54    -  -  -  -  -  -  -  -  -   -  ...   -   -   -   -   -   -   -   -   -   \n",
      "55    -  -  -  -  -  -  -  -  -   -  ...   -   -   -   -   -   -   -   -   -   \n",
      "56    -  -  -  -  -  -  -  -  -   -  ...   -   -   -   -   -   -   -   -   -   \n",
      "57    -  -  -  -  -  -  -  -  -   -  ...   -   -   -   -   -   -   -   -   -   \n",
      "58    -  -  -  -  -  -  -  -  -   -  ...   -   -   -   -   -   -   -   -   -   \n",
      "...  .. .. .. .. .. .. .. .. ..  ..  ...  ..  ..  ..  ..  ..  ..  ..  ..  ..   \n",
      "2387  -  -  -  -  -  -  -  -  -   F  ...   -   S   K   -   -   -   -   -   -   \n",
      "2388  -  -  -  -  -  -  -  -  -   I  ...   M   -   -   -   -   -   -   -   -   \n",
      "2390  -  -  -  -  -  -  -  -  -   I  ...   -   -   -   -   -   -   -   -   -   \n",
      "2393  -  -  -  -  -  -  -  -  -   -  ...   M   -   -   L   -   -   -   -   -   \n",
      "2394  -  -  -  -  -  -  -  -  -   I  ...   M   -   -   L   -   -   -   -   -   \n",
      "\n",
      "     P99  \n",
      "54     -  \n",
      "55     -  \n",
      "56     -  \n",
      "57     -  \n",
      "58     -  \n",
      "...   ..  \n",
      "2387   -  \n",
      "2388   -  \n",
      "2390   -  \n",
      "2393   -  \n",
      "2394   -  \n",
      "\n",
      "[1116 rows x 99 columns]\n",
      "(1116, 1056)\n"
     ]
    },
    {
     "data": {
      "text/plain": [
       "\"\\n    # Convert all categorical columns to numeric\\n    for col in X.select_dtypes(['category']).columns:\\n        X[col] = X[col].cat.codes\\n\\n    X_train, X_test, y_train, y_test = train_test_split(X, y, test_size=0.33, random_state=42)\\n\""
      ]
     },
     "execution_count": 5,
     "metadata": {},
     "output_type": "execute_result"
    }
   ],
   "execution_count": 5
  }
 ],
 "metadata": {
  "kernelspec": {
   "display_name": "Python 3",
   "language": "python",
   "name": "python3"
  },
  "language_info": {
   "codemirror_mode": {
    "name": "ipython",
    "version": 2
   },
   "file_extension": ".py",
   "mimetype": "text/x-python",
   "name": "python",
   "nbconvert_exporter": "python",
   "pygments_lexer": "ipython2",
   "version": "2.7.6"
  }
 },
 "nbformat": 4,
 "nbformat_minor": 5
}
