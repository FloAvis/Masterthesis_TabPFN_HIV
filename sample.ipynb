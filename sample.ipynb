{
 "cells": [
  {
   "metadata": {},
   "cell_type": "markdown",
   "source": [
    "# TabPFN Test\n",
    "\n",
    "Code taken from TabPFN Demo V1 Local https://colab.research.google.com/drive/1SHa43VuHASLjevzO7y3-wPCxHY18-2H6?usp=sharing\n"
   ],
   "id": "8a77807f92f26ee"
  },
  {
   "metadata": {
    "ExecuteTime": {
     "end_time": "2025-06-12T11:59:40.197294Z",
     "start_time": "2025-06-12T11:59:27.392726Z"
    }
   },
   "cell_type": "code",
   "source": [
    "import os\n",
    "\n",
    "# Setup Imports\n",
    "import pandas as pd\n",
    "import numpy as np\n",
    "\n",
    "from sklearn.datasets import load_breast_cancer, load_diabetes, load_iris\n",
    "from sklearn.model_selection import train_test_split\n",
    "from sklearn.model_selection import cross_val_score\n",
    "from sklearn.metrics import (\n",
    "    accuracy_score,\n",
    "    mean_absolute_error,\n",
    "    mean_squared_error,\n",
    "    root_mean_squared_error,\n",
    "    r2_score,\n",
    "    roc_auc_score,\n",
    ")\n",
    "from sklearn.model_selection import train_test_split\n",
    "\n",
    "import matplotlib.pyplot as plt\n",
    "from matplotlib.colors import ListedColormap\n",
    "from sklearn.inspection import DecisionBoundaryDisplay\n",
    "\n",
    "from sklearn.datasets import fetch_openml\n",
    "from sklearn.preprocessing import LabelEncoder\n",
    "from IPython.display import display, Markdown, Latex\n",
    "\n",
    "# Baseline Imports\n",
    "from xgboost import XGBClassifier, XGBRegressor\n",
    "from sklearn.ensemble import RandomForestClassifier, RandomForestRegressor\n",
    "from catboost import CatBoostClassifier, CatBoostRegressor\n",
    "\n",
    "import torch\n",
    "\n",
    "from tabpfn import TabPFNClassifier, TabPFNRegressor\n",
    "from tabpfn_extensions.post_hoc_ensembles.sklearn_interface import AutoTabPFNClassifier, AutoTabPFNRegressor\n",
    "\n",
    "#Currently skipping as it is not working, will try on my pc or in server\n",
    "\n",
    "'''\n",
    "if not torch.cuda.is_available():\n",
    "    raise SystemError('GPU device not found. For fast training, please enable GPU. See section above for instructions.')\n",
    "    '''\n"
   ],
   "id": "6fa9cf4dca3f7440",
   "outputs": [
    {
     "data": {
      "text/plain": [
       "\"\\nif not torch.cuda.is_available():\\n    raise SystemError('GPU device not found. For fast training, please enable GPU. See section above for instructions.')\\n    \""
      ]
     },
     "execution_count": 1,
     "metadata": {},
     "output_type": "execute_result"
    }
   ],
   "execution_count": 1
  },
  {
   "metadata": {},
   "cell_type": "markdown",
   "source": [
    "## Prediction with Tab PFN\n",
    "### Classification"
   ],
   "id": "266fa2e0731d1cb1"
  },
  {
   "metadata": {
    "ExecuteTime": {
     "end_time": "2025-06-12T12:00:55.206198Z",
     "start_time": "2025-06-12T12:00:55.116613Z"
    }
   },
   "cell_type": "code",
   "source": [
    "# Parkinson's Disease dataset: Predict Parkinson's disease presence\n",
    "# Features: Voice measurements (e.g., frequency, amplitude)\n",
    "# Samples: 195 cases\n",
    "df = fetch_openml('parkinsons')\n",
    "\n",
    "# Alternative datasets (commented for reference):\n",
    "\n",
    "# German Credit Fraud (ID: 31)\n",
    "# Samples: 1,000\n",
    "# Features: 20 (account info, credit history, employment)\n",
    "# Target: Good/Bad credit risk\n",
    "# df = fetch_openml(data_id=31)\n",
    "\n",
    "# Cholesterol dataset: Predict cholesterol levels\n",
    "# Features: Patient characteristics, medical measurements\n",
    "# Samples: 303 patients\n",
    "# Target: Cholesterol levels in mg/dl\n",
    "# df = fetch_openml('cholesterol', version=2, as_frame=True)\n",
    "\n",
    "# Primary Tumor dataset: Predict tumor type and size\n",
    "# Features: Patient symptoms, medical test results\n",
    "# Samples: 339 patients\n",
    "# Target: Tumor classification and size\n",
    "# df = fetch_openml('primary-tumor', version=1, as_frame=True) - too many classes!\n",
    "\n",
    "# Heart Disease dataset (Statlog): Predict presence of heart disease\n",
    "# Features: Clinical and test measurements\n",
    "# Samples: 270 patients\n",
    "# Target: Binary heart disease diagnosis\n",
    "# df = fetch_openml(\"heart-statlog\", version=1)\n",
    "\n",
    "# Diabetes dataset: Predict diabetes presence\n",
    "# Features: Medical measurements, patient history\n",
    "# Samples: 768 patients\n",
    "# Target: Binary diabetes diagnosis\n",
    "#df = fetch_openml(\"diabetes\", version=1)\n",
    "\n",
    "# Hypothyroid dataset: Predict thyroid condition\n",
    "# Features: Blood test results, patient symptoms\n",
    "# Samples: 3772 patients\n",
    "# Target: Thyroid condition classification\n",
    "# df = fetch_openml('hypothyroid')\n",
    "#dataset = fetch_openml(data_id=42532, as_frame=True, parser='auto')\n",
    "\n",
    "X, y = df.data, df.target\n",
    "print(y)\n",
    "# Encode target labels to classes\n",
    "le = LabelEncoder()\n",
    "y = le.fit_transform(y)\n",
    "\n",
    "# Convert all categorical columns to numeric\n",
    "for col in X.select_dtypes(['category']).columns:\n",
    "    X[col] = X[col].cat.codes\n",
    "\n",
    "X_train, X_test, y_train, y_test = train_test_split(X, y, test_size=0.33, random_state=42)\n",
    "\n",
    "# Print dataset description\n",
    "display(Markdown(df['DESCR']))\n",
    "\n",
    "display(X)"
   ],
   "id": "90dc6ddb009866a6",
   "outputs": [
    {
     "name": "stdout",
     "output_type": "stream",
     "text": [
      "0      2\n",
      "1      2\n",
      "2      2\n",
      "3      2\n",
      "4      2\n",
      "      ..\n",
      "190    1\n",
      "191    1\n",
      "192    1\n",
      "193    1\n",
      "194    1\n",
      "Name: Class, Length: 195, dtype: category\n",
      "Categories (2, object): ['1', '2']\n"
     ]
    },
    {
     "data": {
      "text/plain": [
       "<IPython.core.display.Markdown object>"
      ],
      "text/markdown": "**Author**:   \n**Source**: UCI\n**Please cite**: 'Exploiting Nonlinear Recurrence and Fractal Scaling Properties for Voice Disorder Detection', Little MA, McSharry PE, Roberts SJ, Costello DAE, Moroz IM. BioMedical Engineering OnLine 2007, 6:23 (26 June 2007) \n\n* Abstract: \n\nOxford Parkinson's Disease Detection Dataset\n\n* Source:\n\nThe dataset was created by Max Little of the University of Oxford, in collaboration with the National Centre for Voice and Speech, Denver, Colorado, who recorded the speech signals. The original study published the feature extraction methods for general voice disorders.\n\n* Data Set Information:\nThis dataset is composed of a range of biomedical voice measurements from 31 people, 23 with Parkinson's disease (PD). Each column in the table is a particular voice measure, and each row corresponds one of 195 voice recording from these individuals (\"name\" column). The main aim of the data is to discriminate healthy people from those with PD, according to \"status\" column which is set to 0 for healthy and 1 for PD. \n\nFurther details are contained in the following reference -- if you use this dataset, please cite: \nMax A. Little, Patrick E. McSharry, Eric J. Hunter, Lorraine O. Ramig (2008), 'Suitability of dysphonia measurements for telemonitoring of Parkinson's disease', IEEE Transactions on Biomedical Engineering (to appear).\n\n\n* Attribute Information:\n\nMatrix column entries (attributes): \nname - ASCII subject name and recording number \nMDVP:Fo(Hz) - Average vocal fundamental frequency \nMDVP:Fhi(Hz) - Maximum vocal fundamental frequency \nMDVP:Flo(Hz) - Minimum vocal fundamental frequency \nMDVP:Jitter(%),MDVP:Jitter(Abs),MDVP:RAP,MDVP:PPQ,Jitter:DDP - Several measures of variation in fundamental frequency \nMDVP:Shimmer,MDVP:Shimmer(dB),Shimmer:APQ3,Shimmer:APQ5,MDVP:APQ,Shimmer:DDA - Several measures of variation in amplitude \nNHR,HNR - Two measures of ratio of noise to tonal components in the voice \nstatus - Health status of the subject (one) - Parkinson's, (zero) - healthy \nRPDE,D2 - Two nonlinear dynamical complexity measures \nDFA - Signal fractal scaling exponent \nspread1,spread2,PPE - Three nonlinear measures of fundamental frequency variation\n\nDownloaded from openml.org."
     },
     "metadata": {},
     "output_type": "display_data"
    },
    {
     "data": {
      "text/plain": [
       "          V1       V2       V3       V4       V5       V6       V7       V8  \\\n",
       "0    119.992  157.302   74.997  0.00784  0.00007  0.00370  0.00554  0.01109   \n",
       "1    122.400  148.650  113.819  0.00968  0.00008  0.00465  0.00696  0.01394   \n",
       "2    116.682  131.111  111.555  0.01050  0.00009  0.00544  0.00781  0.01633   \n",
       "3    116.676  137.871  111.366  0.00997  0.00009  0.00502  0.00698  0.01505   \n",
       "4    116.014  141.781  110.655  0.01284  0.00011  0.00655  0.00908  0.01966   \n",
       "..       ...      ...      ...      ...      ...      ...      ...      ...   \n",
       "190  174.188  230.978   94.261  0.00459  0.00003  0.00263  0.00259  0.00790   \n",
       "191  209.516  253.017   89.488  0.00564  0.00003  0.00331  0.00292  0.00994   \n",
       "192  174.688  240.005   74.287  0.01360  0.00008  0.00624  0.00564  0.01873   \n",
       "193  198.764  396.961   74.904  0.00740  0.00004  0.00370  0.00390  0.01109   \n",
       "194  214.289  260.277   77.973  0.00567  0.00003  0.00295  0.00317  0.00885   \n",
       "\n",
       "          V9    V10  ...      V13      V14      V15     V16       V17  \\\n",
       "0    0.04374  0.426  ...  0.02971  0.06545  0.02211  21.033  0.414783   \n",
       "1    0.06134  0.626  ...  0.04368  0.09403  0.01929  19.085  0.458359   \n",
       "2    0.05233  0.482  ...  0.03590  0.08270  0.01309  20.651  0.429895   \n",
       "3    0.05492  0.517  ...  0.03772  0.08771  0.01353  20.644  0.434969   \n",
       "4    0.06425  0.584  ...  0.04465  0.10470  0.01767  19.649  0.417356   \n",
       "..       ...    ...  ...      ...      ...      ...     ...       ...   \n",
       "190  0.04087  0.405  ...  0.02745  0.07008  0.02764  19.517  0.448439   \n",
       "191  0.02751  0.263  ...  0.01879  0.04812  0.01810  19.147  0.431674   \n",
       "192  0.02308  0.256  ...  0.01667  0.03804  0.10715  17.883  0.407567   \n",
       "193  0.02296  0.241  ...  0.01588  0.03794  0.07223  19.020  0.451221   \n",
       "194  0.01884  0.190  ...  0.01373  0.03078  0.04398  21.209  0.462803   \n",
       "\n",
       "          V18       V19       V20       V21       V22  \n",
       "0    0.815285 -4.813031  0.266482  2.301442  0.284654  \n",
       "1    0.819521 -4.075192  0.335590  2.486855  0.368674  \n",
       "2    0.825288 -4.443179  0.311173  2.342259  0.332634  \n",
       "3    0.819235 -4.117501  0.334147  2.405554  0.368975  \n",
       "4    0.823484 -3.747787  0.234513  2.332180  0.410335  \n",
       "..        ...       ...       ...       ...       ...  \n",
       "190  0.657899 -6.538586  0.121952  2.657476  0.133050  \n",
       "191  0.683244 -6.195325  0.129303  2.784312  0.168895  \n",
       "192  0.655683 -6.787197  0.158453  2.679772  0.131728  \n",
       "193  0.643956 -6.744577  0.207454  2.138608  0.123306  \n",
       "194  0.664357 -5.724056  0.190667  2.555477  0.148569  \n",
       "\n",
       "[195 rows x 22 columns]"
      ],
      "text/html": [
       "<div>\n",
       "<style scoped>\n",
       "    .dataframe tbody tr th:only-of-type {\n",
       "        vertical-align: middle;\n",
       "    }\n",
       "\n",
       "    .dataframe tbody tr th {\n",
       "        vertical-align: top;\n",
       "    }\n",
       "\n",
       "    .dataframe thead th {\n",
       "        text-align: right;\n",
       "    }\n",
       "</style>\n",
       "<table border=\"1\" class=\"dataframe\">\n",
       "  <thead>\n",
       "    <tr style=\"text-align: right;\">\n",
       "      <th></th>\n",
       "      <th>V1</th>\n",
       "      <th>V2</th>\n",
       "      <th>V3</th>\n",
       "      <th>V4</th>\n",
       "      <th>V5</th>\n",
       "      <th>V6</th>\n",
       "      <th>V7</th>\n",
       "      <th>V8</th>\n",
       "      <th>V9</th>\n",
       "      <th>V10</th>\n",
       "      <th>...</th>\n",
       "      <th>V13</th>\n",
       "      <th>V14</th>\n",
       "      <th>V15</th>\n",
       "      <th>V16</th>\n",
       "      <th>V17</th>\n",
       "      <th>V18</th>\n",
       "      <th>V19</th>\n",
       "      <th>V20</th>\n",
       "      <th>V21</th>\n",
       "      <th>V22</th>\n",
       "    </tr>\n",
       "  </thead>\n",
       "  <tbody>\n",
       "    <tr>\n",
       "      <th>0</th>\n",
       "      <td>119.992</td>\n",
       "      <td>157.302</td>\n",
       "      <td>74.997</td>\n",
       "      <td>0.00784</td>\n",
       "      <td>0.00007</td>\n",
       "      <td>0.00370</td>\n",
       "      <td>0.00554</td>\n",
       "      <td>0.01109</td>\n",
       "      <td>0.04374</td>\n",
       "      <td>0.426</td>\n",
       "      <td>...</td>\n",
       "      <td>0.02971</td>\n",
       "      <td>0.06545</td>\n",
       "      <td>0.02211</td>\n",
       "      <td>21.033</td>\n",
       "      <td>0.414783</td>\n",
       "      <td>0.815285</td>\n",
       "      <td>-4.813031</td>\n",
       "      <td>0.266482</td>\n",
       "      <td>2.301442</td>\n",
       "      <td>0.284654</td>\n",
       "    </tr>\n",
       "    <tr>\n",
       "      <th>1</th>\n",
       "      <td>122.400</td>\n",
       "      <td>148.650</td>\n",
       "      <td>113.819</td>\n",
       "      <td>0.00968</td>\n",
       "      <td>0.00008</td>\n",
       "      <td>0.00465</td>\n",
       "      <td>0.00696</td>\n",
       "      <td>0.01394</td>\n",
       "      <td>0.06134</td>\n",
       "      <td>0.626</td>\n",
       "      <td>...</td>\n",
       "      <td>0.04368</td>\n",
       "      <td>0.09403</td>\n",
       "      <td>0.01929</td>\n",
       "      <td>19.085</td>\n",
       "      <td>0.458359</td>\n",
       "      <td>0.819521</td>\n",
       "      <td>-4.075192</td>\n",
       "      <td>0.335590</td>\n",
       "      <td>2.486855</td>\n",
       "      <td>0.368674</td>\n",
       "    </tr>\n",
       "    <tr>\n",
       "      <th>2</th>\n",
       "      <td>116.682</td>\n",
       "      <td>131.111</td>\n",
       "      <td>111.555</td>\n",
       "      <td>0.01050</td>\n",
       "      <td>0.00009</td>\n",
       "      <td>0.00544</td>\n",
       "      <td>0.00781</td>\n",
       "      <td>0.01633</td>\n",
       "      <td>0.05233</td>\n",
       "      <td>0.482</td>\n",
       "      <td>...</td>\n",
       "      <td>0.03590</td>\n",
       "      <td>0.08270</td>\n",
       "      <td>0.01309</td>\n",
       "      <td>20.651</td>\n",
       "      <td>0.429895</td>\n",
       "      <td>0.825288</td>\n",
       "      <td>-4.443179</td>\n",
       "      <td>0.311173</td>\n",
       "      <td>2.342259</td>\n",
       "      <td>0.332634</td>\n",
       "    </tr>\n",
       "    <tr>\n",
       "      <th>3</th>\n",
       "      <td>116.676</td>\n",
       "      <td>137.871</td>\n",
       "      <td>111.366</td>\n",
       "      <td>0.00997</td>\n",
       "      <td>0.00009</td>\n",
       "      <td>0.00502</td>\n",
       "      <td>0.00698</td>\n",
       "      <td>0.01505</td>\n",
       "      <td>0.05492</td>\n",
       "      <td>0.517</td>\n",
       "      <td>...</td>\n",
       "      <td>0.03772</td>\n",
       "      <td>0.08771</td>\n",
       "      <td>0.01353</td>\n",
       "      <td>20.644</td>\n",
       "      <td>0.434969</td>\n",
       "      <td>0.819235</td>\n",
       "      <td>-4.117501</td>\n",
       "      <td>0.334147</td>\n",
       "      <td>2.405554</td>\n",
       "      <td>0.368975</td>\n",
       "    </tr>\n",
       "    <tr>\n",
       "      <th>4</th>\n",
       "      <td>116.014</td>\n",
       "      <td>141.781</td>\n",
       "      <td>110.655</td>\n",
       "      <td>0.01284</td>\n",
       "      <td>0.00011</td>\n",
       "      <td>0.00655</td>\n",
       "      <td>0.00908</td>\n",
       "      <td>0.01966</td>\n",
       "      <td>0.06425</td>\n",
       "      <td>0.584</td>\n",
       "      <td>...</td>\n",
       "      <td>0.04465</td>\n",
       "      <td>0.10470</td>\n",
       "      <td>0.01767</td>\n",
       "      <td>19.649</td>\n",
       "      <td>0.417356</td>\n",
       "      <td>0.823484</td>\n",
       "      <td>-3.747787</td>\n",
       "      <td>0.234513</td>\n",
       "      <td>2.332180</td>\n",
       "      <td>0.410335</td>\n",
       "    </tr>\n",
       "    <tr>\n",
       "      <th>...</th>\n",
       "      <td>...</td>\n",
       "      <td>...</td>\n",
       "      <td>...</td>\n",
       "      <td>...</td>\n",
       "      <td>...</td>\n",
       "      <td>...</td>\n",
       "      <td>...</td>\n",
       "      <td>...</td>\n",
       "      <td>...</td>\n",
       "      <td>...</td>\n",
       "      <td>...</td>\n",
       "      <td>...</td>\n",
       "      <td>...</td>\n",
       "      <td>...</td>\n",
       "      <td>...</td>\n",
       "      <td>...</td>\n",
       "      <td>...</td>\n",
       "      <td>...</td>\n",
       "      <td>...</td>\n",
       "      <td>...</td>\n",
       "      <td>...</td>\n",
       "    </tr>\n",
       "    <tr>\n",
       "      <th>190</th>\n",
       "      <td>174.188</td>\n",
       "      <td>230.978</td>\n",
       "      <td>94.261</td>\n",
       "      <td>0.00459</td>\n",
       "      <td>0.00003</td>\n",
       "      <td>0.00263</td>\n",
       "      <td>0.00259</td>\n",
       "      <td>0.00790</td>\n",
       "      <td>0.04087</td>\n",
       "      <td>0.405</td>\n",
       "      <td>...</td>\n",
       "      <td>0.02745</td>\n",
       "      <td>0.07008</td>\n",
       "      <td>0.02764</td>\n",
       "      <td>19.517</td>\n",
       "      <td>0.448439</td>\n",
       "      <td>0.657899</td>\n",
       "      <td>-6.538586</td>\n",
       "      <td>0.121952</td>\n",
       "      <td>2.657476</td>\n",
       "      <td>0.133050</td>\n",
       "    </tr>\n",
       "    <tr>\n",
       "      <th>191</th>\n",
       "      <td>209.516</td>\n",
       "      <td>253.017</td>\n",
       "      <td>89.488</td>\n",
       "      <td>0.00564</td>\n",
       "      <td>0.00003</td>\n",
       "      <td>0.00331</td>\n",
       "      <td>0.00292</td>\n",
       "      <td>0.00994</td>\n",
       "      <td>0.02751</td>\n",
       "      <td>0.263</td>\n",
       "      <td>...</td>\n",
       "      <td>0.01879</td>\n",
       "      <td>0.04812</td>\n",
       "      <td>0.01810</td>\n",
       "      <td>19.147</td>\n",
       "      <td>0.431674</td>\n",
       "      <td>0.683244</td>\n",
       "      <td>-6.195325</td>\n",
       "      <td>0.129303</td>\n",
       "      <td>2.784312</td>\n",
       "      <td>0.168895</td>\n",
       "    </tr>\n",
       "    <tr>\n",
       "      <th>192</th>\n",
       "      <td>174.688</td>\n",
       "      <td>240.005</td>\n",
       "      <td>74.287</td>\n",
       "      <td>0.01360</td>\n",
       "      <td>0.00008</td>\n",
       "      <td>0.00624</td>\n",
       "      <td>0.00564</td>\n",
       "      <td>0.01873</td>\n",
       "      <td>0.02308</td>\n",
       "      <td>0.256</td>\n",
       "      <td>...</td>\n",
       "      <td>0.01667</td>\n",
       "      <td>0.03804</td>\n",
       "      <td>0.10715</td>\n",
       "      <td>17.883</td>\n",
       "      <td>0.407567</td>\n",
       "      <td>0.655683</td>\n",
       "      <td>-6.787197</td>\n",
       "      <td>0.158453</td>\n",
       "      <td>2.679772</td>\n",
       "      <td>0.131728</td>\n",
       "    </tr>\n",
       "    <tr>\n",
       "      <th>193</th>\n",
       "      <td>198.764</td>\n",
       "      <td>396.961</td>\n",
       "      <td>74.904</td>\n",
       "      <td>0.00740</td>\n",
       "      <td>0.00004</td>\n",
       "      <td>0.00370</td>\n",
       "      <td>0.00390</td>\n",
       "      <td>0.01109</td>\n",
       "      <td>0.02296</td>\n",
       "      <td>0.241</td>\n",
       "      <td>...</td>\n",
       "      <td>0.01588</td>\n",
       "      <td>0.03794</td>\n",
       "      <td>0.07223</td>\n",
       "      <td>19.020</td>\n",
       "      <td>0.451221</td>\n",
       "      <td>0.643956</td>\n",
       "      <td>-6.744577</td>\n",
       "      <td>0.207454</td>\n",
       "      <td>2.138608</td>\n",
       "      <td>0.123306</td>\n",
       "    </tr>\n",
       "    <tr>\n",
       "      <th>194</th>\n",
       "      <td>214.289</td>\n",
       "      <td>260.277</td>\n",
       "      <td>77.973</td>\n",
       "      <td>0.00567</td>\n",
       "      <td>0.00003</td>\n",
       "      <td>0.00295</td>\n",
       "      <td>0.00317</td>\n",
       "      <td>0.00885</td>\n",
       "      <td>0.01884</td>\n",
       "      <td>0.190</td>\n",
       "      <td>...</td>\n",
       "      <td>0.01373</td>\n",
       "      <td>0.03078</td>\n",
       "      <td>0.04398</td>\n",
       "      <td>21.209</td>\n",
       "      <td>0.462803</td>\n",
       "      <td>0.664357</td>\n",
       "      <td>-5.724056</td>\n",
       "      <td>0.190667</td>\n",
       "      <td>2.555477</td>\n",
       "      <td>0.148569</td>\n",
       "    </tr>\n",
       "  </tbody>\n",
       "</table>\n",
       "<p>195 rows × 22 columns</p>\n",
       "</div>"
      ]
     },
     "metadata": {},
     "output_type": "display_data"
    }
   ],
   "execution_count": 5
  },
  {
   "metadata": {
    "ExecuteTime": {
     "end_time": "2025-06-12T12:00:42.800457Z",
     "start_time": "2025-06-12T12:00:42.789028Z"
    }
   },
   "cell_type": "code",
   "source": "print(y)",
   "id": "77926a8f70371aec",
   "outputs": [
    {
     "name": "stdout",
     "output_type": "stream",
     "text": [
      "[1 1 1 1 1 1 1 1 1 1 1 1 1 1 1 1 1 1 1 1 1 1 1 1 1 1 1 1 1 1 0 0 0 0 0 0 1\n",
      " 1 1 1 1 1 0 0 0 0 0 0 0 0 0 0 0 0 1 1 1 1 1 1 0 0 0 0 0 0 1 1 1 1 1 1 1 1\n",
      " 1 1 1 1 1 1 1 1 1 1 1 1 1 1 1 1 1 1 1 1 1 1 1 1 1 1 1 1 1 1 1 1 1 1 1 1 1\n",
      " 1 1 1 1 1 1 1 1 1 1 1 1 1 1 1 1 1 1 1 1 1 1 1 1 1 1 1 1 1 1 1 1 1 1 1 1 1\n",
      " 1 1 1 1 1 1 1 1 1 1 1 1 1 1 1 1 1 0 0 0 0 0 0 0 0 0 0 0 0 1 1 1 1 1 1 0 0\n",
      " 0 0 0 0 0 0 0 0 0 0]\n"
     ]
    }
   ],
   "execution_count": 4
  },
  {
   "metadata": {
    "ExecuteTime": {
     "end_time": "2025-06-10T15:25:43.239223Z",
     "start_time": "2025-06-10T15:25:29.057437Z"
    }
   },
   "cell_type": "code",
   "source": [
    "X_train, X_test, y_train, y_test = train_test_split(X, y, test_size=0.20)\n",
    "\n",
    "# Train and evaluate TabPFN\n",
    "y_pred = TabPFNClassifier(random_state=42).fit(X_train, y_train).predict_proba(X_test)\n",
    "\n",
    "# Calculate ROC AUC (handles both binary and multiclass)\n",
    "score = roc_auc_score(y_test, y_pred if len(np.unique(y)) > 2 else y_pred[:, 1])\n",
    "print(f\"TabPFN ROC AUC: {score:.4f}\")"
   ],
   "id": "ec3d7d58c59b4180",
   "outputs": [
    {
     "name": "stderr",
     "output_type": "stream",
     "text": [
      "C:\\Users\\flori\\anaconda3\\Lib\\site-packages\\tabpfn\\base.py:89: UserWarning: Downloading model to C:\\Users\\flori\\AppData\\Roaming\\tabpfn\\tabpfn-v2-classifier.ckpt.\n",
      "  model, _, config_ = load_model_criterion_config(\n"
     ]
    },
    {
     "data": {
      "text/plain": [
       "tabpfn-v2-classifier.ckpt:   0%|          | 0.00/29.0M [00:00<?, ?B/s]"
      ],
      "application/vnd.jupyter.widget-view+json": {
       "version_major": 2,
       "version_minor": 0,
       "model_id": "b2f7b7a8b3af4d6cad502c4eea2e964d"
      }
     },
     "metadata": {},
     "output_type": "display_data"
    },
    {
     "data": {
      "text/plain": [
       "config.json:   0%|          | 0.00/37.0 [00:00<?, ?B/s]"
      ],
      "application/vnd.jupyter.widget-view+json": {
       "version_major": 2,
       "version_minor": 0,
       "model_id": "0965cd530171406a877c371ace6cd99f"
      }
     },
     "metadata": {},
     "output_type": "display_data"
    },
    {
     "name": "stdout",
     "output_type": "stream",
     "text": [
      "TabPFN ROC AUC: 0.9968\n"
     ]
    }
   ],
   "execution_count": 7
  },
  {
   "metadata": {
    "ExecuteTime": {
     "end_time": "2025-06-10T15:27:03.278173Z",
     "start_time": "2025-06-10T15:26:00.037948Z"
    }
   },
   "cell_type": "code",
   "source": [
    "# Compare different machine learning models by training each one multiple times\n",
    "# on different parts of the data and averaging their performance scores for a\n",
    "# more reliable performance estimate\n",
    "\n",
    "# Define models\n",
    "models = [\n",
    "    ('TabPFN', TabPFNClassifier(random_state=42)),\n",
    "    ('RandomForest', RandomForestClassifier(random_state=42)),\n",
    "    ('XGBoost', XGBClassifier(random_state=42)),\n",
    "    ('CatBoost', CatBoostClassifier(random_state=42, verbose=0))\n",
    "]\n",
    "\n",
    "# Calculate scores\n",
    "scoring = 'roc_auc_ovr' if len(np.unique(y)) > 2 else 'roc_auc'\n",
    "scores = {name: cross_val_score(model, X, y, cv=5, scoring=scoring, n_jobs=1, verbose=1).mean()\n",
    "          for name, model in models}\n",
    "\n",
    "# Plot results\n",
    "df = pd.DataFrame(list(scores.items()), columns=['Model', 'ROC AUC'])\n",
    "ax = df.plot(x='Model', y='ROC AUC', kind='bar', figsize=(10, 6))\n",
    "ax.set_ylim(df['ROC AUC'].min() * 0.995, min(1.0, df['ROC AUC'].max() * 1.005))\n",
    "ax.set_title('Model Comparison - 5-fold Cross-validation')"
   ],
   "id": "808f617b4808b9b9",
   "outputs": [
    {
     "data": {
      "text/plain": [
       "Text(0.5, 1.0, 'Model Comparison - 5-fold Cross-validation')"
      ]
     },
     "execution_count": 8,
     "metadata": {},
     "output_type": "execute_result"
    },
    {
     "data": {
      "text/plain": [
       "<Figure size 1000x600 with 1 Axes>"
      ],
      "image/png": "[encoded data removed]"
     },
     "metadata": {},
     "output_type": "display_data"
    }
   ],
   "execution_count": 8
  },
  {
   "metadata": {
    "ExecuteTime": {
     "end_time": "2025-06-10T16:03:28.246037Z",
     "start_time": "2025-06-10T15:55:49.106735Z"
    }
   },
   "cell_type": "code",
   "source": [
    "# Adding AutoTabPFN which is significantly slower but gives best results\n",
    "\n",
    "# Define models\n",
    "models = [\n",
    "    ('TabPFN', TabPFNClassifier(random_state=42)),\n",
    "    #('AutoTabPFN', AutoTabPFNClassifier(max_time=30, device=\"cuda\")), # takes 30 seconds to run so excluded previously\n",
    "    ('AutoTabPFN', AutoTabPFNClassifier(max_time=30)), # takes 30 seconds to run so excluded previously\n",
    "    ('RandomForest', RandomForestClassifier(random_state=42)),\n",
    "    ('XGBoost', XGBClassifier(random_state=42)),\n",
    "    ('CatBoost', CatBoostClassifier(random_state=42, verbose=0))\n",
    "]\n",
    "\n",
    "# Calculate scores\n",
    "scoring = 'roc_auc_ovr' if len(np.unique(y)) > 2 else 'roc_auc'\n",
    "scores = {name: cross_val_score(model, X, y, cv=3, scoring=scoring, n_jobs=1, verbose=1).mean()\n",
    "          for name, model in models}\n",
    "\n",
    "# Plot results\n",
    "df = pd.DataFrame(list(scores.items()), columns=['Model', 'ROC AUC'])\n",
    "ax = df.plot(x='Model', y='ROC AUC', kind='bar', figsize=(10, 6))\n",
    "ax.set_ylim(df['ROC AUC'].min() * 0.995, min(1.0, df['ROC AUC'].max() * 1.005))\n",
    "ax.set_title('Model Comparison - 5-fold Cross-validation')"
   ],
   "id": "dc5af0c8f08f3a96",
   "outputs": [
    {
     "name": "stderr",
     "output_type": "stream",
     "text": [
      "C:\\Users\\flori\\anaconda3\\Lib\\site-packages\\tabpfn\\base.py:89: UserWarning: Downloading model to C:\\Users\\flori\\Desktop\\Masterarbeit\\Models\\tabpfn-extensions\\src\\tabpfn_extensions\\hpo\\hpo_models\\tabpfn-v2-classifier-od3j1g5m.ckpt.\n",
      "  model, _, config_ = load_model_criterion_config(\n"
     ]
    },
    {
     "data": {
      "text/plain": [
       "tabpfn-v2-classifier-od3j1g5m.ckpt:   0%|          | 0.00/29.0M [00:00<?, ?B/s]"
      ],
      "application/vnd.jupyter.widget-view+json": {
       "version_major": 2,
       "version_minor": 0,
       "model_id": "ba341afd840943e0994683a1c91e01e3"
      }
     },
     "metadata": {},
     "output_type": "display_data"
    },
    {
     "data": {
      "text/plain": [
       "config.json:   0%|          | 0.00/37.0 [00:00<?, ?B/s]"
      ],
      "application/vnd.jupyter.widget-view+json": {
       "version_major": 2,
       "version_minor": 0,
       "model_id": "23f2b3d353304ac8a58568d866c9f999"
      }
     },
     "metadata": {},
     "output_type": "display_data"
    },
    {
     "name": "stderr",
     "output_type": "stream",
     "text": [
      "C:\\Users\\flori\\anaconda3\\Lib\\site-packages\\tabpfn\\base.py:89: UserWarning: Downloading model to C:\\Users\\flori\\Desktop\\Masterarbeit\\Models\\tabpfn-extensions\\src\\tabpfn_extensions\\hpo\\hpo_models\\tabpfn-v2-classifier-llderlii.ckpt.\n",
      "  model, _, config_ = load_model_criterion_config(\n"
     ]
    },
    {
     "data": {
      "text/plain": [
       "tabpfn-v2-classifier-llderlii.ckpt:   0%|          | 0.00/29.0M [00:00<?, ?B/s]"
      ],
      "application/vnd.jupyter.widget-view+json": {
       "version_major": 2,
       "version_minor": 0,
       "model_id": "ff6d0ade7ef147f9a4fa64ce6bb318de"
      }
     },
     "metadata": {},
     "output_type": "display_data"
    },
    {
     "data": {
      "text/plain": [
       "config.json:   0%|          | 0.00/37.0 [00:00<?, ?B/s]"
      ],
      "application/vnd.jupyter.widget-view+json": {
       "version_major": 2,
       "version_minor": 0,
       "model_id": "ee330dea449f45239aa8ede6ceb5aa4a"
      }
     },
     "metadata": {},
     "output_type": "display_data"
    },
    {
     "name": "stderr",
     "output_type": "stream",
     "text": [
      "INFO:tabpfn_extensions.post_hoc_ensembles.greedy_weighted_ensemble:Order of selections: [0, 0, 0, 2, 0, 0, 0, 0, 1, 0, 1, 2, 2, 0, 2, 0, 1, 0, 2, 0, 0, 0, 0, 2, 1]\n",
      "INFO:tabpfn_extensions.post_hoc_ensembles.greedy_weighted_ensemble:Val loss over iterations: [-0.9744318181818182, -0.9744318181818182, -0.9744318181818182, -0.9772727272727272, -0.9772727272727272, -0.9772727272727272, -0.9772727272727272, -0.9772727272727272, -0.9772727272727272, -0.9772727272727272, -0.9772727272727272, -0.9772727272727272, -0.9772727272727272, -0.9772727272727272, -0.9772727272727272, -0.9772727272727272, -0.9772727272727272, -0.9772727272727272, -0.9772727272727272, -0.9772727272727272, -0.9772727272727272, -0.9772727272727272, -0.9772727272727272, -0.9772727272727272, -0.9772727272727272]\n",
      "INFO:tabpfn_extensions.post_hoc_ensembles.greedy_weighted_ensemble:Model losses: [-0.97443182 -0.96875    -0.94034091]\n",
      "INFO:tabpfn_extensions.post_hoc_ensembles.greedy_weighted_ensemble:Best weights: [0.75 0.   0.25]\n",
      "INFO:tabpfn_extensions.post_hoc_ensembles.greedy_weighted_ensemble:Order of selections: [0, 0, 0, 0, 0, 0, 0, 0, 0, 0, 0, 0, 0, 0, 0, 0, 0, 0, 0, 0, 0, 0, 0, 0, 0]\n",
      "INFO:tabpfn_extensions.post_hoc_ensembles.greedy_weighted_ensemble:Val loss over iterations: [-0.9659090909090908, -0.9659090909090908, -0.9659090909090908, -0.9659090909090908, -0.9659090909090908, -0.9659090909090908, -0.9659090909090908, -0.9659090909090908, -0.9659090909090908, -0.9659090909090908, -0.9659090909090908, -0.9659090909090908, -0.9659090909090908, -0.9659090909090908, -0.9659090909090908, -0.9659090909090908, -0.9659090909090908, -0.9659090909090908, -0.9659090909090908, -0.9659090909090908, -0.9659090909090908, -0.9659090909090908, -0.9659090909090908, -0.9659090909090908, -0.9659090909090908]\n",
      "INFO:tabpfn_extensions.post_hoc_ensembles.greedy_weighted_ensemble:Model losses: [-0.96590909 -0.95170455 -0.94318182]\n",
      "INFO:tabpfn_extensions.post_hoc_ensembles.greedy_weighted_ensemble:Best weights: [1. 0. 0.]\n",
      "INFO:tabpfn_extensions.post_hoc_ensembles.greedy_weighted_ensemble:Order of selections: [0, 0, 1, 0, 0, 0, 1, 1, 0, 0, 1, 0, 1, 0, 0, 1, 0, 1, 0, 0, 1, 0, 1, 0, 0]\n",
      "INFO:tabpfn_extensions.post_hoc_ensembles.greedy_weighted_ensemble:Val loss over iterations: [-0.9403409090909091, -0.9403409090909091, -0.9431818181818181, -0.9431818181818181, -0.9431818181818181, -0.9431818181818181, -0.9431818181818181, -0.9431818181818181, -0.9431818181818181, -0.9431818181818181, -0.9431818181818181, -0.9431818181818181, -0.9431818181818181, -0.9431818181818181, -0.9431818181818181, -0.9431818181818181, -0.9431818181818181, -0.9431818181818181, -0.9431818181818181, -0.9431818181818181, -0.9431818181818181, -0.9431818181818181, -0.9431818181818181, -0.9431818181818181, -0.9431818181818181]\n",
      "INFO:tabpfn_extensions.post_hoc_ensembles.greedy_weighted_ensemble:Model losses: [-0.94034091 -0.9375     -0.92897727]\n",
      "INFO:tabpfn_extensions.post_hoc_ensembles.greedy_weighted_ensemble:Best weights: [0.66666667 0.33333333 0.        ]\n"
     ]
    },
    {
     "data": {
      "text/plain": [
       "Text(0.5, 1.0, 'Model Comparison - 5-fold Cross-validation')"
      ]
     },
     "execution_count": 13,
     "metadata": {},
     "output_type": "execute_result"
    },
    {
     "data": {
      "text/plain": [
       "<Figure size 1000x600 with 1 Axes>"
      ],
      "image/png": "[encoded data removed]"
     },
     "metadata": {},
     "output_type": "display_data"
    }
   ],
   "execution_count": 13
  },
  {
   "metadata": {},
   "cell_type": "code",
   "outputs": [],
   "execution_count": null,
   "source": "",
   "id": "d4dfe50873e583a1"
  }
 ],
 "metadata": {
  "kernelspec": {
   "display_name": "Python 3",
   "language": "python",
   "name": "python3"
  },
  "language_info": {
   "codemirror_mode": {
    "name": "ipython",
    "version": 2
   },
   "file_extension": ".py",
   "mimetype": "text/x-python",
   "name": "python",
   "nbconvert_exporter": "python",
   "pygments_lexer": "ipython2",
   "version": "2.7.6"
  }
 },
 "nbformat": 4,
 "nbformat_minor": 5
}
